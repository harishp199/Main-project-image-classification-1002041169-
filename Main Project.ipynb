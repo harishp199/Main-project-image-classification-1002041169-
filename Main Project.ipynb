{
  "nbformat": 4,
  "nbformat_minor": 0,
  "metadata": {
    "colab": {
      "provenance": []
    },
    "kernelspec": {
      "name": "python3",
      "display_name": "Python 3"
    },
    "language_info": {
      "name": "python"
    }
  },
  "cells": [
    {
      "cell_type": "code",
      "execution_count": null,
      "metadata": {
        "id": "bkYaj8pXSIdm"
      },
      "outputs": [],
      "source": [
        "pip install opendatasets"
      ]
    },
    {
      "cell_type": "code",
      "source": [
        "import opendatasets\n",
        "opendatasets.download('https://www.kaggle.com/datasets/aryashah2k/mango-leaf-disease-dataset')\n",
        "import os\n",
        "print(os.listdir('/content/mango-leaf-disease-dataset'))"
      ],
      "metadata": {
        "id": "PsLWKW1LSM8f"
      },
      "execution_count": null,
      "outputs": []
    },
    {
      "cell_type": "code",
      "source": [
        "import os\n",
        "import numpy as np\n",
        "from PIL import Image\n",
        "\n",
        "# Define the path to the dataset\n",
        "data_path = '/content/mango-leaf-disease-dataset'\n",
        "\n",
        "# Define the size of the images after resizing\n",
        "img_size = 224\n",
        "\n",
        "# Define the number of classes\n",
        "num_classes = len(os.listdir(data_path))\n",
        "\n",
        "# Create empty lists to store the preprocessed images and their labels\n",
        "X = []\n",
        "y = []\n",
        "\n",
        "# Loop over each class directory\n",
        "for i, class_dir in enumerate(os.listdir(data_path)):\n",
        "    # Get the path to the class directory\n",
        "    class_path = os.path.join(data_path, class_dir)\n",
        "    # print(\"class\",class_path)\n",
        "    \n",
        "    # Loop over each image in the class directory\n",
        "    for img_file in os.listdir(class_path):\n",
        "        # Get the path to the image file\n",
        "        img_path = os.path.join(class_path, img_file)\n",
        "        print(\"img_path\",img_path)\n",
        "        \n",
        "        # Load the image and resize it to the desired size\n",
        "        img = Image.open(img_path).resize((img_size, img_size))\n",
        "        \n",
        "        # Convert the image to grayscale (optional)\n",
        "        img = img.convert('L')\n",
        "        \n",
        "        # Convert the image to a numpy array and normalize the pixel values\n",
        "        img = np.array(img) / 255.0\n",
        "        \n",
        "        # Add the preprocessed image and its label to the lists\n",
        "        X.append(img)\n",
        "        y.append(i)\n",
        "\n",
        "# Convert the lists to numpy arrays\n",
        "X = np.array(X)\n",
        "y = np.array(y)\n",
        "print(X)\n",
        "print(y)\n"
      ],
      "metadata": {
        "id": "7wiUOyGkSNCG"
      },
      "execution_count": null,
      "outputs": []
    },
    {
      "cell_type": "code",
      "source": [
        "print(os.listdir(data_path))\n",
        "class_mapping = {\n",
        "    0: 'Die Back',\n",
        "    1: 'Healthy',\n",
        "    2: 'Anthracnose',\n",
        "    3: 'Gall Midge',\n",
        "    4: 'Cutting Weevil',\n",
        "    5: 'Sooty Mould',\n",
        "    6: 'Powdery Mildew',\n",
        "    7: 'Bacterial Canker'\n",
        "}\n"
      ],
      "metadata": {
        "id": "noQAO6SdSNES"
      },
      "execution_count": null,
      "outputs": []
    },
    {
      "cell_type": "code",
      "source": [
        "from sklearn.model_selection import train_test_split\n",
        "\n",
        "# Split the preprocessed data into training and testing sets\n",
        "X_train, X_test, y_train, y_test = train_test_split(X, y, test_size=0.2)"
      ],
      "metadata": {
        "id": "3vkOTzYHSNGz"
      },
      "execution_count": null,
      "outputs": []
    },
    {
      "cell_type": "code",
      "source": [
        "from sklearn.svm import SVC\n",
        "from sklearn.ensemble import RandomForestClassifier\n",
        "from sklearn.neighbors import KNeighborsClassifier\n",
        "from sklearn.metrics import accuracy_score\n",
        "from sklearn.metrics import classification_report\n",
        "\n",
        "# Initialize the classifiers\n",
        "svc = SVC(kernel='linear')\n",
        "rfc = RandomForestClassifier(n_estimators=100)\n",
        "knn = KNeighborsClassifier(n_neighbors=5)\n",
        "X_train = X_train.reshape(X_train.shape[0], -1)\n",
        "X_test = X_test.reshape(X_test.shape[0], -1)\n",
        "\n",
        "# Train the classifiers on the training data\n",
        "svc.fit(X_train, y_train)\n",
        "svc_acc = accuracy_score(y_test, svc.predict(X_test))\n",
        "print(\"Support Vector Machine accuracy: {:.2f}%\".format(svc_acc*100))\n",
        "rfc.fit(X_train, y_train)\n",
        "rfc_acc = accuracy_score(y_test, rfc.predict(X_test))\n",
        "print(\"Random Forest Classifier accuracy: {:.2f}%\".format(rfc_acc*100))\n",
        "knn.fit(X_train, y_train)\n",
        "knn_acc = accuracy_score(y_test, knn.predict(X_test))\n",
        "print(\"K-Nearest Neighbors Classifier accuracy: {:.2f}%\".format(knn_acc*100))\n",
        "print(\"SVM classification report:\")\n",
        "print(classification_report(y_test, svc.predict(X_test)))\n",
        "\n",
        "print(\"Random forest classification report:\")\n",
        "print(classification_report(y_test, rfc.predict(X_test)))\n",
        "\n",
        "print(\"KNN classification report:\")\n",
        "print(classification_report(y_test, knn.predict(X_test)))"
      ],
      "metadata": {
        "id": "nfvYeLMnSNJT"
      },
      "execution_count": null,
      "outputs": []
    },
    {
      "cell_type": "code",
      "source": [
        "from sklearn.metrics import *\n",
        "svc_f1 = f1_score(y_test, svc.predict(X_test), average='weighted')\n",
        "rfc_f1 = f1_score(y_test,  rfc.predict(X_test), average='weighted')\n",
        "knn_f1 = f1_score(y_test, knn.predict(X_test), average='weighted')\n",
        "\n",
        "print(\"SVM F1 score:\", svc_f1)\n",
        "print(\"Random forest F1 score:\", rfc_f1)\n",
        "print(\"KNN F1 score:\", knn_f1)\n",
        "\n",
        "if svc_f1 >= rfc_f1 and svc_f1 >= knn_f1:\n",
        "    print(\"SVM classifier has the best performance.\")\n",
        "    best_clf = svc_f1\n",
        "elif rfc_f1 >= svc_f1 and rfc_f1 >= knn_f1:\n",
        "    print(\"Random forest classifier has the best performance.\")\n",
        "    best_clf = rfc\n",
        "else:\n",
        "    print(\"KNN classifier has the best performance.\")\n",
        "    best_clf = knn"
      ],
      "metadata": {
        "id": "RFAF4MteSNLp"
      },
      "execution_count": null,
      "outputs": []
    },
    {
      "cell_type": "code",
      "source": [
        "#predecting the image\n",
        "import cv2\n",
        "from PIL import Image\n",
        "import matplotlib.pyplot as plt\n",
        "import numpy as np\n",
        "\n",
        "# Load the new image\n",
        "img_path = '/content/mango-leaf-disease-dataset/Powdery Mildew/20211109_121223 (Custom).jpg'\n",
        "img_size = 224\n",
        "try:\n",
        "    img = Image.open(img_path).resize((img_size, img_size))\n",
        "    tt=img\n",
        "except FileNotFoundError:\n",
        "    print(f\"FileNotFoundError: Could not load image at {img_path}\")\n",
        "    exit(1)\n",
        "\n",
        "# Convert the image to grayscale (optional)\n",
        "img = img.convert('L')\n",
        "img = np.array(img) / 255.0\n",
        "\n",
        "# Convert the preprocessed image to a numpy array\n",
        "new_image = np.array(img)\n",
        "\n",
        "# Reshape the image to a 1D array\n",
        "new_image = new_image.reshape(1, -1)\n",
        "\n",
        "# Use the trained SVM classifier to predict the label of the new image\n",
        "rfc_pred = rfc.predict(new_image)\n",
        "\n",
        "# Get the predicted class name\n",
        "predicted_class_index = rfc.predict(new_image)[0]\n",
        "predicted_class_name = class_mapping[predicted_class_index]\n",
        "\n",
        "# # Show the image and print a description of it\n",
        "plt.imshow(tt)\n",
        "\n",
        "plt.text(0, -5, predicted_class_name, fontsize=12, color='white', backgroundcolor='gray')\n",
        "plt.axis('off')\n",
        "plt.show()\n",
        "print(\"Random forest classifier label\")\n",
        "\n",
        "print(\"The image depicts:\", predicted_class_name)\n"
      ],
      "metadata": {
        "id": "axatLLTtSNOC"
      },
      "execution_count": null,
      "outputs": []
    },
    {
      "cell_type": "code",
      "source": [
        "#Rxperiments on Random Forest\n",
        "from sklearn.model_selection import *\n",
        "\n",
        "# Set up th e parameter grid for the Random forest classifier\n",
        "param_grid = {'n_estimators': [100],\n",
        "    'max_depth': [10, 20, 30],\n",
        "    'min_samples_split': [2, 4],\n",
        "    'min_samples_leaf': [1, 2]}\n",
        "rfc = RandomForestClassifier()\n",
        "rfc_grid = GridSearchCV(\n",
        "    rfc,\n",
        "    param_grid,\n",
        "    cv=5,\n",
        "    n_jobs=-1,  # use all available CPU cores\n",
        "    verbose=2\n",
        ")\n",
        "\n",
        "rfc_grid.fit(X_train, y_train)\n",
        "# Get the test accuracy using the best model found by GridSearchCV\n",
        "best_model = rfc_grid.best_estimator_\n",
        "best_score = rfc_grid.best_score_\n",
        "best_params = rfc_grid.best_params_\n",
        "test_accuracy = best_model.score(X_test, y_test)\n",
        "print('Test accuracy:', test_accuracy)\n",
        "# Print the best hyperparameters and the corresponding classification report\n",
        "print(\"Best RFC hyperparameters:\", best_params)\n",
        "svc_pred = rfc_grid.predict(X_test)\n",
        "print(\"RFC classification report:\")\n",
        "print(classification_report(y_test, rfc_pred))\n",
        "rfc = RandomForestClassifier(**best_params)\n",
        "rfc.fit(X_train, y_train)\n",
        "y_pred = rfc.predict(X_test)\n",
        "accuracy = accuracy_score(y_test, y_pred)\n",
        "print(\"Mean cross-validation score:\", best_score)\n",
        "print(\"Test accuracy:\", accuracy)\n",
        "accuracy=accuracy*100\n",
        "print(\"test accuracy\",accuracy,\"%\")"
      ],
      "metadata": {
        "id": "zMVOopVBSNQb"
      },
      "execution_count": null,
      "outputs": []
    },
    {
      "cell_type": "code",
      "source": [
        "#experiments on svm\n",
        "from sklearn.model_selection import *\n",
        "# Set up the parameter grid for the SVM classifier\n",
        "param_grid = {'C': [0.1],\n",
        "              'kernel': ['poly', 'rbf'],\n",
        "              'gamma': ['scale']}\n",
        "\n",
        "\n",
        "svc_grid = GridSearchCV(\n",
        "    svc,\n",
        "    param_grid,\n",
        "    cv=5,\n",
        "    n_jobs=-1,  # use all available CPU cores\n",
        "    verbose=2\n",
        ")\n",
        "\n",
        "svc_grid.fit(X_train, y_train)\n",
        "# Get the test accuracy using the best model found by GridSearchCV\n",
        "best_model = svc_grid.best_estimator_\n",
        "test_accuracy = best_model.score(X_test, y_test)\n",
        "print('Test accuracy:', test_accuracy)\n",
        "# Print the best hyperparameters and the corresponding classification report\n",
        "print(\"Best SVM hyperparameters:\", svc_grid.best_params_)\n",
        "svc_pred = svc_grid.predict(X_test)\n",
        "accuracy = accuracy_score(y_test, svc_pred)\n",
        "print(\"accuracy\",accuracy)\n",
        "\n",
        "print(\"SVM classification report:\")\n",
        "print(classification_report(y_test, svc_pred))\n"
      ],
      "metadata": {
        "id": "8UPXJvyeSNbH"
      },
      "execution_count": null,
      "outputs": []
    }
  ]
}